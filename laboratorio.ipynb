{
 "cells": [
  {
   "cell_type": "markdown",
   "metadata": {},
   "source": [
    "# Laboratorio 3\n",
    "### Ejercicio 1: Convertir decimal a binario"
   ]
  },
  {
   "cell_type": "code",
   "execution_count": 2,
   "metadata": {},
   "outputs": [
    {
     "name": "stdout",
     "output_type": "stream",
     "text": [
      "Conversión decimal a binario\n",
      "El número 25 en binario es: 11001\n",
      "\n"
     ]
    }
   ],
   "source": [
    "# Ejercicio 1: Convertir decimal a binario\n",
    "def decimal_a_binario(numero):\n",
    "    '''\n",
    "    Convierte un número decimal a su representación binaria.\n",
    "    Args:\n",
    "        numero: Un número entero en base decimal   \n",
    "    Returns:\n",
    "        String con la representación binaria del número\n",
    "    '''\n",
    "    if numero == 0:\n",
    "        return '0'\n",
    "    \n",
    "    binario = ''\n",
    "    while numero > 0:\n",
    "        residuo = numero % 2\n",
    "        binario = str(residuo) + binario\n",
    "        numero = numero // 2\n",
    "    return binario\n",
    "\n",
    "# Prueba de la función\n",
    "print('Conversión decimal a binario')\n",
    "num_test = 25\n",
    "print(f'El número {num_test} en binario es: {decimal_a_binario(num_test)}')\n",
    "print()"
   ]
  },
  {
   "cell_type": "markdown",
   "metadata": {},
   "source": [
    "### Ejercicio 2: Verificar si un número es primo"
   ]
  },
  {
   "cell_type": "code",
   "execution_count": 3,
   "metadata": {},
   "outputs": [
    {
     "name": "stdout",
     "output_type": "stream",
     "text": [
      "Verificación de números primos\n",
      "2 es un número primo\n",
      "7 es un número primo\n",
      "10 no es un número primo\n",
      "17 es un número primo\n",
      "20 no es un número primo\n"
     ]
    }
   ],
   "source": [
    "def es_primo(numero):\n",
    "    '''\n",
    "    Verifica si un número es primo.   \n",
    "    Args:\n",
    "        numero: Un número entero\n",
    "    Returns:\n",
    "        True si el número es primo, False en caso contrario\n",
    "    '''\n",
    "\n",
    "    if numero <= 1: # Los números menores o iguales a 1 no son primos\n",
    "        return False\n",
    "    if numero == 2: # 2 es el único número par que es primo\n",
    "        return True\n",
    "    if numero % 2 == 0: # Si es par y no es 2, no es primo\n",
    "        return False\n",
    "    # Verificar divisibilidad solo con números impares hasta la raíz cuadrada\n",
    "    # Esto es más eficiente que verificar todos los números\n",
    "    i = 3\n",
    "    while i * i <= numero:\n",
    "        if numero % i == 0:\n",
    "            return False\n",
    "        i += 2    \n",
    "    return True\n",
    "\n",
    "print('Verificación de números primos')\n",
    "for num in [2, 7, 10, 17, 20]:\n",
    "    if es_primo(num):\n",
    "        print(f'{num} es un número primo')\n",
    "    else:\n",
    "        print(f'{num} no es un número primo')"
   ]
  },
  {
   "cell_type": "markdown",
   "metadata": {},
   "source": [
    "### Ejercicio 3: Calcular la desviación estándar"
   ]
  },
  {
   "cell_type": "code",
   "execution_count": 4,
   "metadata": {},
   "outputs": [
    {
     "name": "stdout",
     "output_type": "stream",
     "text": [
      "Cálculo de desviación estándar\n",
      "Lista de números: [4, 8, 6, 5, 3, 2, 8, 9, 2, 5]\n",
      "Desviación estándar: 2.4000\n"
     ]
    }
   ],
   "source": [
    "def calcular_desviacion_estandar(numeros):\n",
    "    '''\n",
    "    Calcula la desviación estándar de una lista de números.  \n",
    "    Args:\n",
    "        numeros: Una lista de números\n",
    "    Returns:\n",
    "        La desviación estándar del conjunto de números\n",
    "    '''\n",
    "    # Verificar que la lista no esté vacía\n",
    "    if not numeros:\n",
    "        return 0\n",
    "    # Calcular la media\n",
    "    suma = 0\n",
    "    for num in numeros:\n",
    "        suma += num\n",
    "    media = suma / len(numeros)    \n",
    "    # Calcular la suma de los cuadrados de las diferencias\n",
    "    suma_cuadrados_diff = 0\n",
    "    for num in numeros:\n",
    "        suma_cuadrados_diff += (num - media) ** 2\n",
    "    \n",
    "    varianza = suma_cuadrados_diff / len(numeros)   # Calcular la varianza (promedio de los cuadrados de las diferencias)\n",
    "    desviacion_estandar = varianza ** 0.5 # La desviación estándar es la raíz cuadrada de la varianza\n",
    "    return desviacion_estandar\n",
    "\n",
    "print('Cálculo de desviación estándar')\n",
    "lista_numeros = [4, 8, 6, 5, 3, 2, 8, 9, 2, 5]\n",
    "print(f'Lista de números: {lista_numeros}')\n",
    "print(f'Desviación estándar: {calcular_desviacion_estandar(lista_numeros):.4f}')"
   ]
  },
  {
   "cell_type": "markdown",
   "metadata": {},
   "source": [
    "### Ejercicio 4: Ordenamiento burbuja"
   ]
  },
  {
   "cell_type": "code",
   "execution_count": 5,
   "metadata": {},
   "outputs": [
    {
     "name": "stdout",
     "output_type": "stream",
     "text": [
      "Ejercicio 4: Ordenamiento burbuja\n",
      "Arreglo original 1: [64, 34, 25, 12, 22, 11, 90]\n",
      "Arreglo ordenado 1: [11, 12, 22, 25, 34, 64, 90]\n",
      "Arreglo original 2: [5, 1, 4, 2, 8]\n",
      "Arreglo ordenado 2: [1, 2, 4, 5, 8]\n"
     ]
    }
   ],
   "source": [
    "def ordenamiento_burbuja(arreglo):\n",
    "    '''\n",
    "    Implementa el algoritmo de ordenamiento burbuja.\n",
    "    Args:\n",
    "        arreglo: Una lista de elementos comparables\n",
    "    Returns:\n",
    "        Una nueva lista con los elementos ordenados\n",
    "    '''\n",
    "    resultado = arreglo.copy() # Crear una copia del arreglo para no modificar el original\n",
    "    n = len(resultado)\n",
    "\n",
    "    for i in range(n): # Recorrer todos los elementos del arreglo\n",
    "        ordenado = True # Flag para optimizar: si no hay intercambios, el arreglo ya está ordenado\n",
    "        for j in range(0, n - i - 1): # Últimos i elementos ya están en su lugar\n",
    "            if resultado[j] > resultado[j + 1]: # Comparar elementos adyacentes\n",
    "                resultado[j], resultado[j + 1] = resultado[j + 1], resultado[j] # Intercambiar si están en el orden incorrecto\n",
    "                ordenado = False\n",
    "        \n",
    "        if ordenado: # Si no hubo intercambios en esta pasada, el arreglo ya está ordenado\n",
    "            break\n",
    "    return resultado\n",
    "\n",
    "def main_ordenamiento():\n",
    "    '''\n",
    "    Función ordenamiento burbuja.\n",
    "    '''\n",
    "\n",
    "    arreglo1 = [64, 34, 25, 12, 22, 11, 90] # Ejemplos de arreglos para ordenar\n",
    "    arreglo2 = [5, 1, 4, 2, 8]\n",
    "    \n",
    "    print('Arreglo original 1:', arreglo1)\n",
    "    print('Arreglo ordenado 1:', ordenamiento_burbuja(arreglo1))\n",
    "    \n",
    "    print('Arreglo original 2:', arreglo2)\n",
    "    print('Arreglo ordenado 2:', ordenamiento_burbuja(arreglo2))\n",
    "\n",
    "print('Ejercicio 4: Ordenamiento burbuja')\n",
    "main_ordenamiento()\n"
   ]
  },
  {
   "cell_type": "markdown",
   "metadata": {},
   "source": [
    "### Ejercicio 5: Convertir tupla a string"
   ]
  },
  {
   "cell_type": "code",
   "execution_count": 7,
   "metadata": {},
   "outputs": [
    {
     "name": "stdout",
     "output_type": "stream",
     "text": [
      "Conversión de tupla a string\n",
      "Tupla original: (10, 20, 40, 5, 70)\n",
      "String resultante: 102040570\n"
     ]
    }
   ],
   "source": [
    "def tupla_a_string(tupla):\n",
    "    '''\n",
    "    Convierte una tupla de elementos a un string.  \n",
    "    Args:\n",
    "        tupla: Una tupla que puede contener números o letras\n",
    "    Returns:\n",
    "        Un string formado por la concatenación de los elementos de la tupla\n",
    "    '''\n",
    "    resultado = ''\n",
    "    for elemento in tupla:\n",
    "        resultado += str(elemento)\n",
    "    return resultado\n",
    "\n",
    "print('Conversión de tupla a string')\n",
    "tupla_ejemplo = (10, 20, 40, 5, 70)\n",
    "print(f'Tupla original: {tupla_ejemplo}')\n",
    "print(f'String resultante: {tupla_a_string(tupla_ejemplo)}')"
   ]
  },
  {
   "cell_type": "markdown",
   "metadata": {},
   "source": [
    "### Ejercicio 6: Eliminar tuplas vacías de una lista"
   ]
  },
  {
   "cell_type": "code",
   "execution_count": 6,
   "metadata": {},
   "outputs": [
    {
     "name": "stdout",
     "output_type": "stream",
     "text": [
      "Eliminación de tuplas vacías\n",
      "Lista original: [(), (), ('X',), ('a', 'b'), ('a', 'b', 'c'), 'd']\n",
      "Lista sin tuplas vacías: [('X',), ('a', 'b'), ('a', 'b', 'c'), 'd']\n"
     ]
    }
   ],
   "source": [
    "\n",
    "def eliminar_tuplas_vacias(lista_tuplas):\n",
    "    '''\n",
    "    Elimina las tuplas vacías de una lista de tuplas.\n",
    "    Args:\n",
    "        lista_tuplas: Una lista de tuplas\n",
    "    Returns:\n",
    "        Una lista con las tuplas no vacías\n",
    "    '''\n",
    "    return [tupla for tupla in lista_tuplas if tupla]\n",
    "\n",
    "print('Eliminación de tuplas vacías')\n",
    "lista_ejemplo = [(), (), ('X',), ('a', 'b'), ('a', 'b', 'c'), ('d')]\n",
    "print(f'Lista original: {lista_ejemplo}')\n",
    "print(f'Lista sin tuplas vacías: {eliminar_tuplas_vacias(lista_ejemplo)}')"
   ]
  },
  {
   "cell_type": "markdown",
   "metadata": {},
   "source": [
    "### Ejercicio 7: Promedio de cada tupla en una tupla de tuplas"
   ]
  },
  {
   "cell_type": "code",
   "execution_count": null,
   "metadata": {},
   "outputs": [
    {
     "name": "stdout",
     "output_type": "stream",
     "text": [
      "Promedio de tuplas\n",
      "Tupla original: ((10, 10, 10, 12), (30, 45, 56, 45), (81, 80, 39, 32))\n",
      "Tupla de promedios: (10.5, 44.0, 58.0)\n"
     ]
    }
   ],
   "source": [
    "import math\n",
    "def promedio_tuplas(tupla_de_tuplas):\n",
    "    '''\n",
    "    Calcula el promedio de cada tupla en una tupla de tuplas con números.\n",
    "    Args:\n",
    "        tupla_de_tuplas: Una tupla que contiene tuplas de números  \n",
    "    Returns:\n",
    "        Una tupla con los promedios de cada tupla individual\n",
    "    '''\n",
    "    promedios = []\n",
    "    for tupla in tupla_de_tuplas:\n",
    "        suma = sum(tupla)\n",
    "        promedio = suma / len(tupla)\n",
    "        promedios.append(promedio)\n",
    "    \n",
    "    return tuple(promedios)\n",
    "\n",
    "print('Promedio de tuplas')\n",
    "tupla_ejemplo = ((10, 10, 10, 12), (30, 45, 56, 45), (81, 80, 39, 32))\n",
    "print(f'Tupla original: {tupla_ejemplo}')\n",
    "print(f'Tupla de promedios: {promedio_tuplas(tupla_ejemplo)}')"
   ]
  },
  {
   "cell_type": "markdown",
   "metadata": {},
   "source": [
    "### Ejercicio 8: Clase Libro para representación de libros"
   ]
  },
  {
   "cell_type": "code",
   "execution_count": 12,
   "metadata": {},
   "outputs": [
    {
     "name": "stdout",
     "output_type": "stream",
     "text": [
      "Clase Libro\n",
      "Libro recién creado:\n",
      "Título: Don Quijote de la Mancha, Autor: Miguel de Cervantes, Páginas: 863, Leído: No\n",
      "Después de marcar como leído:\n",
      "Título: Don Quijote de la Mancha, Autor: Miguel de Cervantes, Páginas: 863, Leído: Sí\n"
     ]
    }
   ],
   "source": [
    "class Libro:\n",
    "    '''\n",
    "    Clase para representar un libro con sus atributos y métodos.\n",
    "    '''\n",
    "    def __init__(self, titulo, autor, num_paginas):\n",
    "        '''\n",
    "        Inicializa un nuevo libro con su información.\n",
    "        \n",
    "        Args:\n",
    "            titulo: El título del libro\n",
    "            autor: El autor del libro\n",
    "            num_paginas: El número de páginas del libro\n",
    "        '''\n",
    "        self.titulo = titulo\n",
    "        self.autor = autor\n",
    "        self.num_paginas = num_paginas\n",
    "        self.leido = False  # Por defecto, el libro no ha sido leído\n",
    "    \n",
    "    def marcar_como_leido(self):\n",
    "        '''\n",
    "        Marca el libro como leído.\n",
    "        '''\n",
    "        self.leido = True\n",
    "    \n",
    "    def obtener_descripcion(self):\n",
    "        '''\n",
    "        Produce una descripción legible del libro con todos sus detalles.\n",
    "        Returns:\n",
    "            Un string con la descripción del libro\n",
    "        '''\n",
    "        estado_lectura = 'Sí' if self.leido else 'No'\n",
    "        return f'Título: {self.titulo}, Autor: {self.autor}, Páginas: {self.num_paginas}, Leído: {estado_lectura}'\n",
    "\n",
    "print('Clase Libro')\n",
    "# Crear un libro\n",
    "mi_libro = Libro('Don Quijote de la Mancha', 'Miguel de Cervantes', 863)\n",
    "print('Libro recién creado:')\n",
    "print(mi_libro.obtener_descripcion())\n",
    "\n",
    "# Marcar el libro como leído\n",
    "mi_libro.marcar_como_leido()\n",
    "print('Después de marcar como leído:')\n",
    "print(mi_libro.obtener_descripcion())\n"
   ]
  },
  {
   "cell_type": "markdown",
   "metadata": {},
   "source": [
    "### Ejercicio 9: Clase Círculo"
   ]
  },
  {
   "cell_type": "code",
   "execution_count": null,
   "metadata": {},
   "outputs": [
    {
     "name": "stdout",
     "output_type": "stream",
     "text": [
      "Clase Círculo\n",
      "Círculo con radio: 5\n",
      "Área: 78.54\n",
      "Circunferencia: 31.42\n"
     ]
    }
   ],
   "source": [
    "class Circulo:\n",
    "    '''\n",
    "    Clase para representar un círculo con métodos para calcular su área y circunferencia.\n",
    "    '''\n",
    "    def __init__(self, radio):\n",
    "        '''\n",
    "        Inicializa un nuevo círculo con su radio.\n",
    "        Args:\n",
    "            radio: El radio del círculo\n",
    "        '''\n",
    "        self.radio = radio\n",
    "    \n",
    "    def calcular_area(self):\n",
    "        '''\n",
    "        Calcula el área del círculo.\n",
    "        Returns:\n",
    "            El área del círculo (π * r²)\n",
    "        '''\n",
    "        return math.pi * self.radio ** 2\n",
    "    \n",
    "    def calcular_circunferencia(self):\n",
    "        '''\n",
    "        Calcula la circunferencia del círculo.\n",
    "        Returns:\n",
    "            La circunferencia del círculo (2 * π * r)\n",
    "        '''\n",
    "        return 2 * math.pi * self.radio\n",
    "Diego Velasquez\n",
    "print('Clase Círculo')\n",
    "# Crear un círculo con radio 5\n",
    "mi_circulo = Circulo(5)\n",
    "print(f'Círculo con radio: {mi_circulo.radio}')\n",
    "print(f'Área: {mi_circulo.calcular_area():.2f}')\n",
    "print(f'Circunferencia: {mi_circulo.calcular_circunferencia():.2f}')"
   ]
  }
 ],
 "metadata": {
  "kernelspec": {
   "display_name": ".venv_labs",
   "language": "python",
   "name": "python3"
  },
  "language_info": {
   "codemirror_mode": {
    "name": "ipython",
    "version": 3
   },
   "file_extension": ".py",
   "mimetype": "text/x-python",
   "name": "python",
   "nbconvert_exporter": "python",
   "pygments_lexer": "ipython3",
   "version": "3.13.0"
  }
 },
 "nbformat": 4,
 "nbformat_minor": 2
}
